{
 "metadata": {
  "language_info": {
   "codemirror_mode": {
    "name": "ipython",
    "version": 3
   },
   "file_extension": ".py",
   "mimetype": "text/x-python",
   "name": "python",
   "nbconvert_exporter": "python",
   "pygments_lexer": "ipython3",
   "version": "3.9.5"
  },
  "orig_nbformat": 4,
  "kernelspec": {
   "name": "python3",
   "display_name": "Python 3.9.5 64-bit"
  },
  "interpreter": {
   "hash": "31f2aee4e71d21fbe5cf8b01ff0e069b9275f58929596ceb00d14d90e3e16cd6"
  }
 },
 "nbformat": 4,
 "nbformat_minor": 2,
 "cells": [
  {
   "cell_type": "code",
   "execution_count": null,
   "metadata": {},
   "outputs": [],
   "source": [
    "#Import Modules\n",
    "import os\n",
    "import tabula\n",
    "from tabula.io import read_pdf\n",
    "import pandas as pd"
   ]
  },
  {
   "cell_type": "code",
   "execution_count": null,
   "metadata": {
    "tags": []
   },
   "outputs": [],
   "source": [
    "#Convert PDFs to CSVs for each species\n",
    "folder = 'PDFs'\n",
    "for file in os.scandir(folder):\n",
    "    filename = file.path\n",
    "    filename = filename.replace(' ', '_')\n",
    "    #read pdf file into pandas dataframes\n",
    "    df = read_pdf(filename, pages = 'all')\n",
    "\n",
    "    #append each page to a new dataframe\n",
    "    dataframe = df[0]\n",
    "    dataframe = dataframe.set_index(dataframe.iloc[:,0])\n",
    "    for page in df[1:]:\n",
    "        page = page.set_index(page.iloc[:,0])\n",
    "        dataframe = dataframe.append(page)\n",
    "    filename = filename.replace('pdf','csv')\n",
    "    filename = filename.replace('PDFs','CSVs')\n",
    "    dataframe.to_csv(filename)"
   ]
  },
  {
   "cell_type": "code",
   "execution_count": null,
   "metadata": {},
   "outputs": [],
   "source": []
  }
 ]
}